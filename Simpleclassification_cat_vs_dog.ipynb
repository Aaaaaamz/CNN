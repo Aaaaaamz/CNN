{
  "nbformat": 4,
  "nbformat_minor": 0,
  "metadata": {
    "colab": {
      "name": "Simpleclassification cat vs dog.ipynb",
      "provenance": [],
      "authorship_tag": "ABX9TyOiwJG1jM5OX/MeimsrRFKc",
      "include_colab_link": true
    },
    "kernelspec": {
      "name": "python3",
      "display_name": "Python 3"
    },
    "language_info": {
      "name": "python"
    },
    "accelerator": "GPU"
  },
  "cells": [
    {
      "cell_type": "markdown",
      "metadata": {
        "id": "view-in-github",
        "colab_type": "text"
      },
      "source": [
        "<a href=\"https://colab.research.google.com/github/Aaaaaamz/CNN/blob/main/Simpleclassification_cat_vs_dog.ipynb\" target=\"_parent\"><img src=\"https://colab.research.google.com/assets/colab-badge.svg\" alt=\"Open In Colab\"/></a>"
      ]
    },
    {
      "cell_type": "markdown",
      "metadata": {
        "id": "W-26HQWLTyok"
      },
      "source": [
        "Simple classification algorithm"
      ]
    },
    {
      "cell_type": "markdown",
      "metadata": {
        "id": "IvEPdEsTXRh7"
      },
      "source": [
        "importing data from kaggle API"
      ]
    },
    {
      "cell_type": "code",
      "metadata": {
        "colab": {
          "base_uri": "https://localhost:8080/"
        },
        "id": "HD7B1BkBeiOW",
        "outputId": "83d02b56-515c-4ea4-b916-f623290b7c61"
      },
      "source": [
        "import os\n",
        "os.environ['KAGGLE_USERNAME'] = \"anandyadav21\" # username from the json file\n",
        "os.environ['KAGGLE_KEY'] = \"115a6f58571ea214070851195db83a5e\" # Provide your key from the json file\n",
        "!kaggle competitions download -c dogs-vs-cats # api copied from kaggle"
      ],
      "execution_count": null,
      "outputs": [
        {
          "output_type": "stream",
          "text": [
            "Warning: Looks like you're using an outdated API Version, please consider updating (server 1.5.12 / client 1.5.4)\n",
            "Downloading train.zip to /content\n",
            " 97% 527M/543M [00:03<00:00, 165MB/s]\n",
            "100% 543M/543M [00:03<00:00, 146MB/s]\n",
            "Downloading sampleSubmission.csv to /content\n",
            "  0% 0.00/86.8k [00:00<?, ?B/s]\n",
            "100% 86.8k/86.8k [00:00<00:00, 89.6MB/s]\n",
            "Downloading test1.zip to /content\n",
            " 95% 257M/271M [00:03<00:00, 87.3MB/s]\n",
            "100% 271M/271M [00:03<00:00, 75.3MB/s]\n"
          ],
          "name": "stdout"
        }
      ]
    },
    {
      "cell_type": "markdown",
      "metadata": {
        "id": "IjaxsCtzT8pY"
      },
      "source": [
        "Importing libraries"
      ]
    },
    {
      "cell_type": "code",
      "metadata": {
        "id": "3ip60QsGPjSf"
      },
      "source": [
        "import zipfile\n",
        "import random\n",
        "import tensorflow as tf\n",
        "from tensorflow.keras.optimizers import RMSprop\n",
        "from tensorflow.keras.preprocessing.image import ImageDataGenerator\n",
        "from shutil import copyfile"
      ],
      "execution_count": null,
      "outputs": []
    },
    {
      "cell_type": "markdown",
      "metadata": {
        "id": "jCfKa5FwUBrY"
      },
      "source": [
        "Exracting files"
      ]
    },
    {
      "cell_type": "code",
      "metadata": {
        "colab": {
          "base_uri": "https://localhost:8080/"
        },
        "id": "TnqO9fOpe_-c",
        "outputId": "112cd11b-7230-4715-e228-a6c0d84d7a27"
      },
      "source": [
        "\n",
        "\n",
        "from zipfile import ZipFile\n",
        "\n",
        "file_name = \"/content/train.zip\"\n",
        "\n",
        "with ZipFile(file_name, 'r') as zip:\n",
        "  zip.extractall()\n",
        "  print('done')"
      ],
      "execution_count": null,
      "outputs": [
        {
          "output_type": "stream",
          "text": [
            "done\n"
          ],
          "name": "stdout"
        }
      ]
    },
    {
      "cell_type": "markdown",
      "metadata": {
        "id": "3C0qNBEEUNUy"
      },
      "source": [
        "checking no of images"
      ]
    },
    {
      "cell_type": "code",
      "metadata": {
        "colab": {
          "base_uri": "https://localhost:8080/"
        },
        "id": "BOzC2Ry4fIIu",
        "outputId": "4fb77164-7b43-46ad-fabb-24324081a8c3"
      },
      "source": [
        "data_dir_list = os.listdir('/content/train')\n",
        "#print(data_dir_list)\n",
        "\n",
        "path, dirs, files = next(os.walk(\"/content/train\"))\n",
        "file_count = len(files)\n",
        "print(file_count)"
      ],
      "execution_count": null,
      "outputs": [
        {
          "output_type": "stream",
          "text": [
            "25000\n"
          ],
          "name": "stdout"
        }
      ]
    },
    {
      "cell_type": "markdown",
      "metadata": {
        "id": "Kq0cGWhNUS2-"
      },
      "source": [
        "Making folder cat and dogs"
      ]
    },
    {
      "cell_type": "code",
      "metadata": {
        "id": "WhPEr3SUfMWe"
      },
      "source": [
        "original_dataset_dir = '/content/train'\n",
        "base_dir = '/content/cats_and_dogs_small'\n",
        "os.mkdir(base_dir) #make base directory"
      ],
      "execution_count": null,
      "outputs": []
    },
    {
      "cell_type": "markdown",
      "metadata": {
        "id": "NuOsvIUkUadF"
      },
      "source": [
        "making three folders test,validation and train"
      ]
    },
    {
      "cell_type": "code",
      "metadata": {
        "id": "920AWxBpfP8f"
      },
      "source": [
        "#Create directory paths\n",
        "\n",
        "train_dir = os.path.join(base_dir, 'train')\n",
        "os.mkdir(train_dir)\n",
        "\n",
        "validation_dir = os.path.join(base_dir, 'validation')\n",
        "os.mkdir(validation_dir)\n",
        "\n",
        "test_dir = os.path.join(base_dir, 'test')\n",
        "os.mkdir(test_dir)\n",
        "\n",
        "train_cats_dir = os.path.join(train_dir, 'cats')\n",
        "os.mkdir(train_cats_dir)\n",
        "\n",
        "train_dogs_dir = os.path.join(train_dir, 'dogs')\n",
        "os.mkdir(train_dogs_dir)\n",
        "\n",
        "validation_cats_dir = os.path.join(validation_dir, 'cats')\n",
        "os.mkdir(validation_cats_dir)\n",
        "\n",
        "validation_dogs_dir = os.path.join(validation_dir, 'dogs')\n",
        "os.mkdir(validation_dogs_dir)\n",
        "\n",
        "test_cats_dir = os.path.join(test_dir, 'cats')\n",
        "os.mkdir(test_cats_dir)\n",
        "\n",
        "test_dogs_dir = os.path.join(test_dir, 'dogs')\n",
        "os.mkdir(test_dogs_dir)"
      ],
      "execution_count": null,
      "outputs": []
    },
    {
      "cell_type": "markdown",
      "metadata": {
        "id": "loC5arCRVKQc"
      },
      "source": [
        "copying the images into the cat folder"
      ]
    },
    {
      "cell_type": "code",
      "metadata": {
        "id": "rZmTVUHOfZqo"
      },
      "source": [
        "import shutil\n",
        "\n",
        "def createFName(org_data_dir, train_data_class_dir, rangeInput1, rangeInput2):\n",
        "    \"This funciton is to create the source and desitnation paths and copy the data.\"\n",
        "    fnames = ['cat.{}.jpg'.format(i) for i in range(rangeInput1,rangeInput2)]\n",
        "    for fname in fnames:\n",
        "        src = os.path.join(org_data_dir, fname)\n",
        "        dst = os.path.join(train_data_class_dir, fname)\n",
        "        #print(src,dst)\n",
        "        shutil.copyfile(src, dst)\n",
        "\n",
        "createFName(original_dataset_dir,train_cats_dir,0,1000)\n",
        "createFName(original_dataset_dir,validation_cats_dir,1000,1500)\n",
        "createFName(original_dataset_dir,test_cats_dir,1500,2000)\n",
        "\n"
      ],
      "execution_count": null,
      "outputs": []
    },
    {
      "cell_type": "markdown",
      "metadata": {
        "id": "7c0RMoooVQR6"
      },
      "source": [
        "copying images into the dog folder"
      ]
    },
    {
      "cell_type": "code",
      "metadata": {
        "id": "M9g0fNH4f5-t"
      },
      "source": [
        "def createFName(org_data_dir, train_data_class_dir, rangeInput1, rangeInput2):\n",
        "    \"This funciton is to create the source and desitnation paths and copy the data.\"\n",
        "    fnames = ['dog.{}.jpg'.format(i) for i in range(rangeInput1,rangeInput2)]\n",
        "    for fname in fnames:\n",
        "        src = os.path.join(org_data_dir, fname)\n",
        "        dst = os.path.join(train_data_class_dir, fname)\n",
        "        #print(src,dst)\n",
        "        shutil.copyfile(src, dst)\n",
        "\n",
        "\n",
        "createFName(original_dataset_dir,train_dogs_dir,0,1000)\n",
        "createFName(original_dataset_dir,validation_dogs_dir,1000,1500)\n",
        "createFName(original_dataset_dir,test_dogs_dir,1500,2000)\n"
      ],
      "execution_count": null,
      "outputs": []
    },
    {
      "cell_type": "markdown",
      "metadata": {
        "id": "Mo1jujV2Wg_F"
      },
      "source": [
        "reading no if images in folders"
      ]
    },
    {
      "cell_type": "code",
      "metadata": {
        "colab": {
          "base_uri": "https://localhost:8080/"
        },
        "id": "seSgXxxpgQao",
        "outputId": "f19642a1-d15d-4924-a46c-cde562bbb2a8"
      },
      "source": [
        "print('total training cat images:', len(os.listdir(train_cats_dir)))\n",
        "print('total training dog images:', len(os.listdir(train_dogs_dir)))\n",
        "print('total validation cat images:', len(os.listdir(validation_cats_dir)))\n",
        "\n",
        "print('total validation dog images:', len(os.listdir(validation_dogs_dir)))\n",
        "print('total test cat images:', len(os.listdir(test_cats_dir)))\n",
        "print('total test dog images:', len(os.listdir(test_dogs_dir)))"
      ],
      "execution_count": null,
      "outputs": [
        {
          "output_type": "stream",
          "text": [
            "total training cat images: 1000\n",
            "total training dog images: 1000\n",
            "total validation cat images: 500\n",
            "total validation dog images: 500\n",
            "total test cat images: 500\n",
            "total test dog images: 500\n"
          ],
          "name": "stdout"
        }
      ]
    },
    {
      "cell_type": "markdown",
      "metadata": {
        "id": "obJg3Hl7W1rE"
      },
      "source": [
        "compiling"
      ]
    },
    {
      "cell_type": "code",
      "metadata": {
        "colab": {
          "base_uri": "https://localhost:8080/"
        },
        "id": "PZYJ9Q8kgWBb",
        "outputId": "e491119a-a84e-4611-97ba-87b6e9535557"
      },
      "source": [
        "\n",
        "from keras import layers\n",
        "from keras import models\n",
        "\n",
        "#Created sequential models using Keras\n",
        "model = models.Sequential()\n",
        "model.add(layers.Conv2D(32, (3, 3), activation='relu', input_shape=(150, 150, 3)))\n",
        "model.add(layers.MaxPooling2D((2, 2)))\n",
        "model.add(layers.Conv2D(64, (3, 3), activation='relu'))\n",
        "model.add(layers.MaxPooling2D((2, 2)))\n",
        "model.add(layers.Conv2D(128, (3, 3), activation='relu'))\n",
        "model.add(layers.MaxPooling2D((2, 2)))\n",
        "model.add(layers.Conv2D(128, (3, 3), activation='relu'))\n",
        "model.add(layers.MaxPooling2D((2, 2)))\n",
        "model.add(layers.Flatten())\n",
        "model.add(layers.Dense(512, activation='relu'))\n",
        "model.add(layers.Dense(1, activation='sigmoid'))\n",
        "model.summary()\n",
        "model.compile(optimizer=RMSprop(lr=0.001), loss='binary_crossentropy', metrics=['acc'])\n"
      ],
      "execution_count": 12,
      "outputs": [
        {
          "output_type": "stream",
          "text": [
            "Model: \"sequential_1\"\n",
            "_________________________________________________________________\n",
            "Layer (type)                 Output Shape              Param #   \n",
            "=================================================================\n",
            "conv2d_4 (Conv2D)            (None, 148, 148, 32)      896       \n",
            "_________________________________________________________________\n",
            "max_pooling2d_4 (MaxPooling2 (None, 74, 74, 32)        0         \n",
            "_________________________________________________________________\n",
            "conv2d_5 (Conv2D)            (None, 72, 72, 64)        18496     \n",
            "_________________________________________________________________\n",
            "max_pooling2d_5 (MaxPooling2 (None, 36, 36, 64)        0         \n",
            "_________________________________________________________________\n",
            "conv2d_6 (Conv2D)            (None, 34, 34, 128)       73856     \n",
            "_________________________________________________________________\n",
            "max_pooling2d_6 (MaxPooling2 (None, 17, 17, 128)       0         \n",
            "_________________________________________________________________\n",
            "conv2d_7 (Conv2D)            (None, 15, 15, 128)       147584    \n",
            "_________________________________________________________________\n",
            "max_pooling2d_7 (MaxPooling2 (None, 7, 7, 128)         0         \n",
            "_________________________________________________________________\n",
            "flatten_1 (Flatten)          (None, 6272)              0         \n",
            "_________________________________________________________________\n",
            "dense_2 (Dense)              (None, 512)               3211776   \n",
            "_________________________________________________________________\n",
            "dense_3 (Dense)              (None, 1)                 513       \n",
            "=================================================================\n",
            "Total params: 3,453,121\n",
            "Trainable params: 3,453,121\n",
            "Non-trainable params: 0\n",
            "_________________________________________________________________\n"
          ],
          "name": "stdout"
        },
        {
          "output_type": "stream",
          "text": [
            "/usr/local/lib/python3.7/dist-packages/keras/optimizer_v2/optimizer_v2.py:356: UserWarning: The `lr` argument is deprecated, use `learning_rate` instead.\n",
            "  \"The `lr` argument is deprecated, use `learning_rate` instead.\")\n"
          ],
          "name": "stderr"
        }
      ]
    },
    {
      "cell_type": "markdown",
      "metadata": {
        "id": "r_7hYQhAWqcU"
      },
      "source": [
        "preprocessing data using keras"
      ]
    },
    {
      "cell_type": "code",
      "metadata": {
        "colab": {
          "base_uri": "https://localhost:8080/"
        },
        "id": "9ufto0Kpgjdn",
        "outputId": "b8061adc-827f-4cfc-dcfd-6f69ec9813d8"
      },
      "source": [
        "from keras.preprocessing.image import ImageDataGenerator\n",
        "\n",
        "train_datagen = ImageDataGenerator(rescale=1./255)\n",
        "test_datagen = ImageDataGenerator(rescale=1./255)\n",
        "\n",
        "train_generator = train_datagen.flow_from_directory(train_dir,\n",
        "                                                    target_size=(150, 150), \n",
        "                                                    batch_size=20,\n",
        "                                                    class_mode='binary')\n",
        "\n",
        "validation_generator = test_datagen.flow_from_directory(validation_dir,\n",
        "                                                        target_size=(150, 150),\n",
        "                                                        batch_size=20,\n",
        "                                                        class_mode='binary')"
      ],
      "execution_count": 13,
      "outputs": [
        {
          "output_type": "stream",
          "text": [
            "Found 2000 images belonging to 2 classes.\n",
            "Found 1000 images belonging to 2 classes.\n"
          ],
          "name": "stdout"
        }
      ]
    },
    {
      "cell_type": "markdown",
      "metadata": {
        "id": "mDhndAVxW-wM"
      },
      "source": [
        "fitting the model"
      ]
    },
    {
      "cell_type": "code",
      "metadata": {
        "colab": {
          "base_uri": "https://localhost:8080/"
        },
        "id": "3hZtm8n6TNZf",
        "outputId": "6be8f1b6-7b51-4f09-d55a-f4178e0e4a54"
      },
      "source": [
        "history = model.fit_generator(train_generator,\n",
        "                              steps_per_epoch=100,\n",
        "                              epochs=30,\n",
        "                              validation_data=validation_generator,\n",
        "                              validation_steps=10)"
      ],
      "execution_count": 14,
      "outputs": [
        {
          "output_type": "stream",
          "text": [
            "/usr/local/lib/python3.7/dist-packages/keras/engine/training.py:1972: UserWarning: `Model.fit_generator` is deprecated and will be removed in a future version. Please use `Model.fit`, which supports generators.\n",
            "  warnings.warn('`Model.fit_generator` is deprecated and '\n"
          ],
          "name": "stderr"
        },
        {
          "output_type": "stream",
          "text": [
            "Epoch 1/30\n",
            "100/100 [==============================] - 39s 67ms/step - loss: 0.7381 - acc: 0.5375 - val_loss: 0.6827 - val_acc: 0.5500\n",
            "Epoch 2/30\n",
            "100/100 [==============================] - 7s 67ms/step - loss: 0.6810 - acc: 0.6040 - val_loss: 0.5819 - val_acc: 0.7000\n",
            "Epoch 3/30\n",
            "100/100 [==============================] - 7s 67ms/step - loss: 0.6217 - acc: 0.6545 - val_loss: 0.7037 - val_acc: 0.6300\n",
            "Epoch 4/30\n",
            "100/100 [==============================] - 7s 67ms/step - loss: 0.5878 - acc: 0.7000 - val_loss: 0.5989 - val_acc: 0.6800\n",
            "Epoch 5/30\n",
            "100/100 [==============================] - 7s 67ms/step - loss: 0.5283 - acc: 0.7395 - val_loss: 0.6737 - val_acc: 0.6650\n",
            "Epoch 6/30\n",
            "100/100 [==============================] - 7s 67ms/step - loss: 0.4759 - acc: 0.7715 - val_loss: 0.8154 - val_acc: 0.6800\n",
            "Epoch 7/30\n",
            "100/100 [==============================] - 7s 67ms/step - loss: 0.4382 - acc: 0.8000 - val_loss: 0.5757 - val_acc: 0.7000\n",
            "Epoch 8/30\n",
            "100/100 [==============================] - 7s 67ms/step - loss: 0.3785 - acc: 0.8335 - val_loss: 0.7510 - val_acc: 0.6700\n",
            "Epoch 9/30\n",
            "100/100 [==============================] - 7s 67ms/step - loss: 0.3281 - acc: 0.8585 - val_loss: 0.6585 - val_acc: 0.7000\n",
            "Epoch 10/30\n",
            "100/100 [==============================] - 7s 66ms/step - loss: 0.2627 - acc: 0.8950 - val_loss: 0.6635 - val_acc: 0.7750\n",
            "Epoch 11/30\n",
            "100/100 [==============================] - 7s 67ms/step - loss: 0.2167 - acc: 0.9105 - val_loss: 0.7407 - val_acc: 0.7550\n",
            "Epoch 12/30\n",
            "100/100 [==============================] - 7s 67ms/step - loss: 0.1640 - acc: 0.9385 - val_loss: 1.0101 - val_acc: 0.7300\n",
            "Epoch 13/30\n",
            "100/100 [==============================] - 7s 67ms/step - loss: 0.1376 - acc: 0.9445 - val_loss: 0.7522 - val_acc: 0.7700\n",
            "Epoch 14/30\n",
            "100/100 [==============================] - 7s 67ms/step - loss: 0.1051 - acc: 0.9645 - val_loss: 1.3711 - val_acc: 0.7150\n",
            "Epoch 15/30\n",
            "100/100 [==============================] - 7s 67ms/step - loss: 0.1081 - acc: 0.9610 - val_loss: 1.0227 - val_acc: 0.7000\n",
            "Epoch 16/30\n",
            "100/100 [==============================] - 7s 67ms/step - loss: 0.0940 - acc: 0.9735 - val_loss: 1.4757 - val_acc: 0.8050\n",
            "Epoch 17/30\n",
            "100/100 [==============================] - 7s 66ms/step - loss: 0.0817 - acc: 0.9675 - val_loss: 1.5806 - val_acc: 0.7550\n",
            "Epoch 18/30\n",
            "100/100 [==============================] - 7s 66ms/step - loss: 0.0836 - acc: 0.9735 - val_loss: 1.7705 - val_acc: 0.6450\n",
            "Epoch 19/30\n",
            "100/100 [==============================] - 7s 65ms/step - loss: 0.0656 - acc: 0.9815 - val_loss: 1.7822 - val_acc: 0.7300\n",
            "Epoch 20/30\n",
            "100/100 [==============================] - 7s 66ms/step - loss: 0.0650 - acc: 0.9815 - val_loss: 2.3388 - val_acc: 0.7200\n",
            "Epoch 21/30\n",
            "100/100 [==============================] - 7s 67ms/step - loss: 0.0938 - acc: 0.9775 - val_loss: 1.3904 - val_acc: 0.7500\n",
            "Epoch 22/30\n",
            "100/100 [==============================] - 7s 66ms/step - loss: 0.0597 - acc: 0.9830 - val_loss: 1.7567 - val_acc: 0.7500\n",
            "Epoch 23/30\n",
            "100/100 [==============================] - 7s 67ms/step - loss: 0.0580 - acc: 0.9880 - val_loss: 2.7102 - val_acc: 0.7450\n",
            "Epoch 24/30\n",
            "100/100 [==============================] - 7s 66ms/step - loss: 0.0744 - acc: 0.9825 - val_loss: 3.2169 - val_acc: 0.6600\n",
            "Epoch 25/30\n",
            "100/100 [==============================] - 7s 68ms/step - loss: 0.0616 - acc: 0.9830 - val_loss: 3.6794 - val_acc: 0.7050\n",
            "Epoch 26/30\n",
            "100/100 [==============================] - 7s 68ms/step - loss: 0.0734 - acc: 0.9765 - val_loss: 3.5969 - val_acc: 0.7050\n",
            "Epoch 27/30\n",
            "100/100 [==============================] - 7s 67ms/step - loss: 0.0633 - acc: 0.9845 - val_loss: 2.3090 - val_acc: 0.7300\n",
            "Epoch 28/30\n",
            "100/100 [==============================] - 7s 66ms/step - loss: 0.0523 - acc: 0.9855 - val_loss: 1.9341 - val_acc: 0.6950\n",
            "Epoch 29/30\n",
            "100/100 [==============================] - 7s 68ms/step - loss: 0.0575 - acc: 0.9875 - val_loss: 3.9244 - val_acc: 0.6200\n",
            "Epoch 30/30\n",
            "100/100 [==============================] - 7s 67ms/step - loss: 0.0326 - acc: 0.9915 - val_loss: 3.3787 - val_acc: 0.7150\n"
          ],
          "name": "stdout"
        }
      ]
    },
    {
      "cell_type": "markdown",
      "metadata": {
        "id": "RBdUDz7DXHX5"
      },
      "source": [
        "training and validation results"
      ]
    },
    {
      "cell_type": "code",
      "metadata": {
        "colab": {
          "base_uri": "https://localhost:8080/",
          "height": 545
        },
        "id": "4tOZWUemUjbX",
        "outputId": "794831a2-16c1-4145-eecd-a651a206426a"
      },
      "source": [
        "model.save('cats_and_dogs_small_1.h5')\n",
        "\n",
        "import matplotlib.pyplot as plt\n",
        "\n",
        "acc = history.history['acc']\n",
        "val_acc = history.history['val_acc']\n",
        "loss = history.history['loss']\n",
        "val_loss = history.history['val_loss']\n",
        "\n",
        "epochs = range(1, len(acc) + 1)\n",
        "\n",
        "plt.plot(epochs, acc, 'bo', label='Training acc')\n",
        "plt.plot(epochs, val_acc, 'b', label='Validation acc')\n",
        "plt.title('Training and validation accuracy')\n",
        "plt.legend()\n",
        "\n",
        "plt.figure()\n",
        "\n",
        "plt.plot(epochs, loss, 'bo', label='Training loss')\n",
        "plt.plot(epochs, val_loss, 'b', label='Validation loss')\n",
        "plt.title('Training and validation loss')\n",
        "plt.legend()\n",
        "\n",
        "plt.show()"
      ],
      "execution_count": 15,
      "outputs": [
        {
          "output_type": "display_data",
          "data": {
            "image/png": "[encoded data removed]",
            "text/plain": [
              "<Figure size 432x288 with 1 Axes>"
            ]
          },
          "metadata": {
            "needs_background": "light"
          }
        },
        {
          "output_type": "display_data",
          "data": {
            "image/png": "[encoded data removed]",
            "text/plain": [
              "<Figure size 432x288 with 1 Axes>"
            ]
          },
          "metadata": {
            "needs_background": "light"
          }
        }
      ]
    }
  ]
}